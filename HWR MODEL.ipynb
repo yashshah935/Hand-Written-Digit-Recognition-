{
  "nbformat": 4,
  "nbformat_minor": 0,
  "metadata": {
    "colab": {
      "provenance": []
    },
    "kernelspec": {
      "name": "python3",
      "display_name": "Python 3"
    },
    "language_info": {
      "name": "python"
    }
  },
  "cells": [
    {
      "cell_type": "code",
      "execution_count": null,
      "metadata": {
        "id": "DOqavdYhvh5h"
      },
      "outputs": [],
      "source": [
        "import numpy as np\n",
        "import matplotlib.pyplot as plt\n",
        "import keras\n",
        "from keras.datasets import mnist\n",
        "\n",
        "from keras.models import Sequential\n",
        "from keras.layers import Dense,Conv2D,MaxPool2D,Flatten,Dropout"
      ]
    },
    {
      "cell_type": "markdown",
      "source": [
        "##Get the data and preprocessing"
      ],
      "metadata": {
        "id": "UQXsGwhDv4k2"
      }
    },
    {
      "cell_type": "code",
      "source": [
        "(X_train, y_train), (X_test, y_test) = mnist.load_data()"
      ],
      "metadata": {
        "id": "s4TW1RgRvmMB",
        "colab": {
          "base_uri": "https://localhost:8080/"
        },
        "outputId": "7e8e1ead-866d-4895-86f5-594b999f97c9"
      },
      "execution_count": null,
      "outputs": [
        {
          "output_type": "stream",
          "name": "stdout",
          "text": [
            "Downloading data from https://storage.googleapis.com/tensorflow/tf-keras-datasets/mnist.npz\n",
            "11490434/11490434 [==============================] - 0s 0us/step\n"
          ]
        }
      ]
    },
    {
      "cell_type": "markdown",
      "source": [
        "preprocess the image\n"
      ],
      "metadata": {
        "id": "ADPjC1r7whzi"
      }
    },
    {
      "cell_type": "code",
      "source": [
        "X_train = X_train.astype(np.float32)/255\n",
        "X_test = X_test.astype(np.float32)/255"
      ],
      "metadata": {
        "id": "Ozh8PgTswAcf"
      },
      "execution_count": null,
      "outputs": []
    },
    {
      "cell_type": "code",
      "source": [
        "X_train = np.expand_dims(X_train,-1)\n",
        "X_test = np.expand_dims(X_test,-1)"
      ],
      "metadata": {
        "id": "ub2jebzKwwB5"
      },
      "execution_count": null,
      "outputs": []
    },
    {
      "cell_type": "code",
      "source": [
        "y_train = keras.utils.np_utils.to_categorical(y_train)\n",
        "y_test = keras.utils.np_utils.to_categorical(y_test)"
      ],
      "metadata": {
        "id": "Afxfn69Ew4R4"
      },
      "execution_count": null,
      "outputs": []
    },
    {
      "cell_type": "code",
      "source": [
        "model = Sequential()\n",
        "model.add(Conv2D(32 , (3,3) , input_shape = (28,28,1) , activation='relu') )\n",
        "model.add(MaxPool2D( (2,2)))\n",
        "\n",
        "model.add(Conv2D(64 , (3,3) , activation='relu') )\n",
        "model.add(MaxPool2D( (2,2)))\n",
        "\n",
        "model.add(Flatten())\n",
        "model.add(Dropout(0.25))\n",
        "model.add(Dense(10,activation=\"softmax\"))"
      ],
      "metadata": {
        "id": "zmsg5wdfxLOw"
      },
      "execution_count": null,
      "outputs": []
    },
    {
      "cell_type": "code",
      "source": [
        "model.compile(optimizer='adam',loss=keras.losses.categorical_crossentropy ,metrics=['accuracy'] )"
      ],
      "metadata": {
        "id": "sMB48N5ozBx9"
      },
      "execution_count": null,
      "outputs": []
    },
    {
      "cell_type": "code",
      "source": [
        "from keras.callbacks import EarlyStopping,ModelCheckpoint\n",
        "\n",
        "es = EarlyStopping(monitor='val_accuracy' , min_delta=0.01,patience=4,verbose=1)\n",
        "mc = ModelCheckpoint(\"/content/sample_data/bestmodel.h5\",monitor=\"val_accuracy\",verbose=1,save_best_only=True)\n",
        "\n",
        "cb = [es,mc]\n"
      ],
      "metadata": {
        "id": "0o2ALTSHzrXf"
      },
      "execution_count": null,
      "outputs": []
    },
    {
      "cell_type": "code",
      "source": [
        "his = model.fit(X_train,y_train,epochs=15,validation_split=0.3,callbacks=cb)"
      ],
      "metadata": {
        "colab": {
          "base_uri": "https://localhost:8080/"
        },
        "id": "Sseevn8P0xP3",
        "outputId": "f35c5e15-1eed-4a6a-f8a1-768f957ecad8"
      },
      "execution_count": null,
      "outputs": [
        {
          "output_type": "stream",
          "name": "stdout",
          "text": [
            "Epoch 1/15\n",
            "1312/1313 [============================>.] - ETA: 0s - loss: 0.2259 - accuracy: 0.9303\n",
            "Epoch 1: val_accuracy improved from -inf to 0.97567, saving model to /content/sample_data/bestmodel.h5\n",
            "1313/1313 [==============================] - 31s 23ms/step - loss: 0.2259 - accuracy: 0.9303 - val_loss: 0.0827 - val_accuracy: 0.9757\n",
            "Epoch 2/15\n",
            "1312/1313 [============================>.] - ETA: 0s - loss: 0.0795 - accuracy: 0.9758\n",
            "Epoch 2: val_accuracy improved from 0.97567 to 0.98311, saving model to /content/sample_data/bestmodel.h5\n",
            "1313/1313 [==============================] - 27s 21ms/step - loss: 0.0794 - accuracy: 0.9759 - val_loss: 0.0566 - val_accuracy: 0.9831\n",
            "Epoch 3/15\n",
            "1311/1313 [============================>.] - ETA: 0s - loss: 0.0573 - accuracy: 0.9828\n",
            "Epoch 3: val_accuracy improved from 0.98311 to 0.98383, saving model to /content/sample_data/bestmodel.h5\n",
            "1313/1313 [==============================] - 27s 21ms/step - loss: 0.0572 - accuracy: 0.9828 - val_loss: 0.0513 - val_accuracy: 0.9838\n",
            "Epoch 4/15\n",
            "1310/1313 [============================>.] - ETA: 0s - loss: 0.0460 - accuracy: 0.9854\n",
            "Epoch 4: val_accuracy improved from 0.98383 to 0.98467, saving model to /content/sample_data/bestmodel.h5\n",
            "1313/1313 [==============================] - 27s 21ms/step - loss: 0.0462 - accuracy: 0.9853 - val_loss: 0.0501 - val_accuracy: 0.9847\n",
            "Epoch 5/15\n",
            "1311/1313 [============================>.] - ETA: 0s - loss: 0.0382 - accuracy: 0.9876\n",
            "Epoch 5: val_accuracy improved from 0.98467 to 0.98583, saving model to /content/sample_data/bestmodel.h5\n",
            "1313/1313 [==============================] - 27s 20ms/step - loss: 0.0382 - accuracy: 0.9876 - val_loss: 0.0491 - val_accuracy: 0.9858\n",
            "Epoch 6/15\n",
            "1310/1313 [============================>.] - ETA: 0s - loss: 0.0332 - accuracy: 0.9895\n",
            "Epoch 6: val_accuracy improved from 0.98583 to 0.98678, saving model to /content/sample_data/bestmodel.h5\n",
            "1313/1313 [==============================] - 27s 20ms/step - loss: 0.0332 - accuracy: 0.9895 - val_loss: 0.0430 - val_accuracy: 0.9868\n",
            "Epoch 7/15\n",
            "1311/1313 [============================>.] - ETA: 0s - loss: 0.0283 - accuracy: 0.9907\n",
            "Epoch 7: val_accuracy improved from 0.98678 to 0.98744, saving model to /content/sample_data/bestmodel.h5\n",
            "1313/1313 [==============================] - 28s 21ms/step - loss: 0.0283 - accuracy: 0.9907 - val_loss: 0.0429 - val_accuracy: 0.9874\n",
            "Epoch 8/15\n",
            "1311/1313 [============================>.] - ETA: 0s - loss: 0.0248 - accuracy: 0.9917\n",
            "Epoch 8: val_accuracy improved from 0.98744 to 0.98850, saving model to /content/sample_data/bestmodel.h5\n",
            "1313/1313 [==============================] - 27s 20ms/step - loss: 0.0248 - accuracy: 0.9917 - val_loss: 0.0392 - val_accuracy: 0.9885\n",
            "Epoch 9/15\n",
            "1311/1313 [============================>.] - ETA: 0s - loss: 0.0223 - accuracy: 0.9926\n",
            "Epoch 9: val_accuracy improved from 0.98850 to 0.98867, saving model to /content/sample_data/bestmodel.h5\n",
            "1313/1313 [==============================] - 27s 20ms/step - loss: 0.0224 - accuracy: 0.9925 - val_loss: 0.0414 - val_accuracy: 0.9887\n",
            "Epoch 9: early stopping\n"
          ]
        }
      ]
    },
    {
      "cell_type": "code",
      "source": [
        "model_S = keras.models.load_model(\"/content/sample_data/bestmodel.h5\")"
      ],
      "metadata": {
        "id": "TnyzXpkj7nIA"
      },
      "execution_count": null,
      "outputs": []
    },
    {
      "cell_type": "code",
      "source": [
        "score = model_S.evaluate(X_test,y_test)\n",
        "print(\"the model accuracy is : \",score[1])"
      ],
      "metadata": {
        "colab": {
          "base_uri": "https://localhost:8080/"
        },
        "id": "d2vJ_GpT8A7B",
        "outputId": "e1eb6c98-bd79-41a1-864e-53225d2e6637"
      },
      "execution_count": null,
      "outputs": [
        {
          "output_type": "stream",
          "name": "stdout",
          "text": [
            "313/313 [==============================] - 2s 6ms/step - loss: 0.0333 - accuracy: 0.9902\n",
            "the model accuracy is :  0.9901999831199646\n"
          ]
        }
      ]
    }
  ]
}